{
 "cells": [
  {
   "cell_type": "code",
   "execution_count": 1,
   "id": "06bf98c1-0021-4c48-beef-6faadf94eea6",
   "metadata": {
    "ExecuteTime": {
     "end_time": "2024-03-19T14:24:28.370742Z",
     "start_time": "2024-03-19T14:24:26.536751Z"
    }
   },
   "outputs": [],
   "source": [
    "import pandas as pd\n"
   ]
  },
  {
   "cell_type": "code",
   "execution_count": 2,
   "id": "ceace323-9adb-4aca-9907-7f07b193e065",
   "metadata": {
    "ExecuteTime": {
     "end_time": "2024-03-19T14:24:28.412741Z",
     "start_time": "2024-03-19T14:24:28.376743Z"
    }
   },
   "outputs": [],
   "source": [
    "# Read list exported from TradingView\n",
    "# Support comma or line delimited rows.\n",
    "\n",
    "from io import StringIO\n",
    "\n",
    "s = ','.join([x.rstrip().rstrip(',') for x in open('RUSSELL2000a.txt')] +\n",
    "             [x.rstrip().rstrip(',') for x in open('RUSSELL2000b.txt')])\n",
    "df1 = pd.read_csv(StringIO(s), sep=':', lineterminator=',', names=['Exchange', 'Ticker'])\n",
    "# df1['Exchange'].value_counts()\n"
   ]
  },
  {
   "cell_type": "code",
   "execution_count": 3,
   "id": "823aca6a-9fba-43d8-8035-ea7e929c7957",
   "metadata": {
    "ExecuteTime": {
     "end_time": "2024-03-19T14:24:28.476744Z",
     "start_time": "2024-03-19T14:24:28.417747Z"
    }
   },
   "outputs": [],
   "source": [
    "# Read list downloaded from BlackRock iShares.\n",
    "# https://www.ishares.com/us/products/239710/ishares-russell-2000-etf\n",
    "\n",
    "fn = 'IWM_holdings.csv'\n",
    "\n",
    "# Read data skipping preamble\n",
    "df2 = pd.read_csv(fn, skiprows=9)\n",
    "\n",
    "# Drop non-Equity, blank, unlisted rows\n",
    "df2 = df2[(df2['Asset Class'] == 'Equity') &\n",
    "          (df2['Ticker'] != '-') &\n",
    "          (~df2['Ticker'].str.contains(r' |\\d')) &\n",
    "          (df2['Exchange'] != 'NO MARKET (E.G. UNLISTED)')]\n"
   ]
  },
  {
   "cell_type": "code",
   "outputs": [],
   "source": [
    "# Update tickers\n",
    "df2.loc[(df2['Ticker'] == 'LGFA') & (df2['Name'] == 'LIONS GATE ENTERTAINMENT VOTING CO'), 'Ticker'] = 'LGF.A'\n",
    "df2.loc[(df2['Ticker'] == 'LGFB') & (df2['Name'] == 'LIONS GATE ENTERTAINMENT NON VOTIN'), 'Ticker'] = 'LGF.B'\n",
    "df2.loc[(df2['Ticker'] == 'MOGA') & (df2['Name'] == 'MOOG INC CLASS A'), 'Ticker'] = 'MOG.A'\n",
    "df2.loc[(df2['Ticker'] == 'CRDA') & (df2['Name'] == 'CRAWFORD CLASS A'), 'Ticker'] = 'CRD.A'\n",
    "df2.loc[(df2['Ticker'] == 'GEFB') & (df2['Name'] == 'GREIF INC CLASS B'), 'Ticker'] = 'GEF.B'\n",
    "\n",
    "# Drop delisted\n",
    "df2.drop(df2[(df2['Ticker'] == 'PDLI') & (df2['Name'] == 'PDL BIOPHARMA INC')].index, inplace=True)\n",
    "df2.drop(df2[(df2['Ticker'] == 'METCV') & (df2['Name'] == 'RAMACO RESOURCES INC CLASS A')].index, inplace=True)  # But METC is missing\n",
    "df2.drop(df2[(df2['Ticker'] == 'GTXI') & (df2['Name'] == 'GTXI INC - CVR')].index, inplace=True)\n",
    "\n",
    "# df2[(df2['Ticker'] == 'GTXI')]\n"
   ],
   "metadata": {
    "collapsed": false,
    "ExecuteTime": {
     "end_time": "2024-03-19T14:24:28.529743Z",
     "start_time": "2024-03-19T14:24:28.481746Z"
    }
   },
   "id": "7d949fbf90c55ad4",
   "execution_count": 4
  },
  {
   "cell_type": "code",
   "outputs": [],
   "source": [
    "lst = []\n",
    "\n",
    "for index, row in df2.iterrows():\n",
    "    exchange0 = row['Exchange']\n",
    "    ticker = row['Ticker']\n",
    "\n",
    "    d = {'NASDAQ': 'NASDAQ',\n",
    "         'New York Stock Exchange Inc.': 'NYSE',\n",
    "         'Nyse Mkt Llc': 'AMEX',\n",
    "         'Non-Nms Quotation Service (Nnqs)': 'OTC'}\n",
    "    try:\n",
    "        exchange1 = d[exchange0]\n",
    "    except KeyError as e:\n",
    "        print(f'Unknown exchange {e} returned for ticker {ticker}, starting exchange is {exchange0}')\n",
    "    else:\n",
    "        lst += [[ticker, exchange0, exchange1]]\n",
    "\n",
    "df3 = pd.DataFrame(lst, columns=['Ticker', 'OldExchange', 'NewExchange']).sort_values(by='Ticker')\n"
   ],
   "metadata": {
    "collapsed": false,
    "ExecuteTime": {
     "end_time": "2024-03-19T14:24:29.187746Z",
     "start_time": "2024-03-19T14:24:28.537743Z"
    }
   },
   "id": "13c328d2344e89c",
   "execution_count": 5
  },
  {
   "cell_type": "code",
   "execution_count": 6,
   "id": "7f51e374-fdbf-412c-aaef-fa6c59190019",
   "metadata": {
    "ExecuteTime": {
     "end_time": "2024-03-19T14:24:29.268757Z",
     "start_time": "2024-03-19T14:24:29.236755Z"
    }
   },
   "outputs": [],
   "source": [
    "removed_tickers = df1[~df1['Ticker'].isin(df3['Ticker'])]['Ticker']\n",
    "added_tickers = df3[~df3['Ticker'].isin(df1['Ticker'])]['Ticker']\n"
   ]
  },
  {
   "cell_type": "code",
   "execution_count": 7,
   "id": "2056a96d-173c-4ae5-a52b-e9ea5275bd3c",
   "metadata": {
    "ExecuteTime": {
     "end_time": "2024-03-19T14:24:29.340746Z",
     "start_time": "2024-03-19T14:24:29.283751Z"
    }
   },
   "outputs": [
    {
     "data": {
      "text/plain": "Series([], Name: Ticker, dtype: object)"
     },
     "execution_count": 7,
     "metadata": {},
     "output_type": "execute_result"
    }
   ],
   "source": [
    "removed_tickers\n"
   ]
  },
  {
   "cell_type": "code",
   "execution_count": 8,
   "id": "c93417e0-499c-48ab-bd9a-a9b233935624",
   "metadata": {
    "ExecuteTime": {
     "end_time": "2024-03-19T14:24:29.374745Z",
     "start_time": "2024-03-19T14:24:29.349745Z"
    }
   },
   "outputs": [
    {
     "data": {
      "text/plain": "Series([], Name: Ticker, dtype: object)"
     },
     "execution_count": 8,
     "metadata": {},
     "output_type": "execute_result"
    }
   ],
   "source": [
    "added_tickers\n"
   ]
  },
  {
   "cell_type": "code",
   "execution_count": 9,
   "id": "431a12d9-2d3a-41c3-a952-1c3b0d8a877c",
   "metadata": {
    "ExecuteTime": {
     "end_time": "2024-03-19T14:24:29.435758Z",
     "start_time": "2024-03-19T14:24:29.384754Z"
    }
   },
   "outputs": [
    {
     "data": {
      "text/plain": "(11851, 11260)"
     },
     "execution_count": 9,
     "metadata": {},
     "output_type": "execute_result"
    }
   ],
   "source": [
    "df4 = (df3['NewExchange'] + ':' + df3['Ticker']).reset_index(drop=True)\n",
    "\n",
    "(open('RUSSELL2000a_new.txt', 'w').write(',\\n'.join(df4.iloc[:1000].tolist())),\n",
    " open('RUSSELL2000b_new.txt', 'w').write(',\\n'.join(df4.iloc[1000:].tolist())))\n"
   ]
  }
 ],
 "metadata": {
  "kernelspec": {
   "display_name": "Python 3 (ipykernel)",
   "language": "python",
   "name": "python3"
  },
  "language_info": {
   "codemirror_mode": {
    "name": "ipython",
    "version": 3
   },
   "file_extension": ".py",
   "mimetype": "text/x-python",
   "name": "python",
   "nbconvert_exporter": "python",
   "pygments_lexer": "ipython3",
   "version": "3.10.13"
  }
 },
 "nbformat": 4,
 "nbformat_minor": 5
}
