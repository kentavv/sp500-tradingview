{
 "cells": [
  {
   "cell_type": "code",
   "execution_count": 1,
   "id": "06bf98c1-0021-4c48-beef-6faadf94eea6",
   "metadata": {},
   "outputs": [],
   "source": [
    "import pandas as pd"
   ]
  },
  {
   "cell_type": "code",
   "execution_count": 2,
   "id": "ceace323-9adb-4aca-9907-7f07b193e065",
   "metadata": {},
   "outputs": [
    {
     "data": {
      "text/plain": [
       "Exchange\n",
       "NYSE      349\n",
       "NASDAQ    153\n",
       "AMEX        1\n",
       "Name: count, dtype: int64"
      ]
     },
     "execution_count": 2,
     "metadata": {},
     "output_type": "execute_result"
    }
   ],
   "source": [
    "# Read list exported from TradingView\n",
    "# Support comma or line delimited rows.\n",
    "\n",
    "from io import StringIO\n",
    "\n",
    "fn = 'SP500.txt'\n",
    "s = ','.join([x.rstrip().rstrip(',') for x in open(fn)])\n",
    "df1 = pd.read_csv(StringIO(s), sep=':', lineterminator=',', names=['Exchange', 'Ticker'])\n",
    "df1['Exchange'].value_counts()"
   ]
  },
  {
   "cell_type": "code",
   "execution_count": 3,
   "id": "823aca6a-9fba-43d8-8035-ea7e929c7957",
   "metadata": {},
   "outputs": [],
   "source": [
    "# Read list downloaded from State Street.\n",
    "# https://www.ssga.com/us/en/intermediary/etfs/funds/spdr-sp-500-etf-trust-spy\n",
    "\n",
    "fn = 'holdings-daily-us-en-spy.xlsx'\n",
    "\n",
    "# Read data skipping preamble\n",
    "df2 = pd.read_excel(fn, skiprows=4)\n",
    "\n",
    "# Drop Dollar row (lacks a symbol) and postamble\n",
    "r = df2[df2.isnull().all(axis=1) == True].index.tolist()[0]\n",
    "df2 = df2.loc[0:r-1]\n",
    "df2 = df2[df2['Name'] != 'US DOLLAR']"
   ]
  },
  {
   "cell_type": "code",
   "execution_count": 4,
   "id": "7f51e374-fdbf-412c-aaef-fa6c59190019",
   "metadata": {},
   "outputs": [],
   "source": [
    "removed_tickers = df1[~df1['Ticker'].isin(df2['Ticker'])]['Ticker']\n",
    "added_tickers = df2[~df2['Ticker'].isin(df1['Ticker'])]['Ticker']"
   ]
  },
  {
   "cell_type": "code",
   "execution_count": 5,
   "id": "2056a96d-173c-4ae5-a52b-e9ea5275bd3c",
   "metadata": {},
   "outputs": [
    {
     "data": {
      "text/plain": [
       "Series([], Name: Ticker, dtype: object)"
      ]
     },
     "execution_count": 5,
     "metadata": {},
     "output_type": "execute_result"
    }
   ],
   "source": [
    "removed_tickers"
   ]
  },
  {
   "cell_type": "code",
   "execution_count": 6,
   "id": "c93417e0-499c-48ab-bd9a-a9b233935624",
   "metadata": {},
   "outputs": [
    {
     "data": {
      "text/plain": [
       "Series([], Name: Ticker, dtype: object)"
      ]
     },
     "execution_count": 6,
     "metadata": {},
     "output_type": "execute_result"
    }
   ],
   "source": [
    "added_tickers"
   ]
  },
  {
   "cell_type": "code",
   "execution_count": 7,
   "id": "431a12d9-2d3a-41c3-a952-1c3b0d8a877c",
   "metadata": {},
   "outputs": [],
   "source": [
    "# Build a new list updated with removed and added tickers.\n",
    "# Use Yahoo Finance to lookup exchange of added tickers.\n",
    "\n",
    "import yfinance as yf\n",
    "\n",
    "def ticker_to_exchange(ticker):\n",
    "    tickerdata = yf.Ticker(ticker.replace('.', '-'))\n",
    "    d = {'NYQ': 'NYSE',\n",
    "        'NMS': 'NASDAQ',\n",
    "        'BTS': 'AMEX'}\n",
    "    return d[tickerdata.info['exchange']]    \n",
    "\n",
    "df1b = df1[~df1['Ticker'].isin(removed_tickers)]\n",
    "\n",
    "for x in added_tickers:\n",
    "    d = {'Exchange': [ticker_to_exchange(x)], 'Ticker': [x]}\n",
    "    df1b = pd.concat([df1b, pd.DataFrame(d)])\n",
    "\n",
    "df1b = df1b.sort_values('Ticker')"
   ]
  },
  {
   "cell_type": "code",
   "execution_count": 8,
   "id": "f36cd059-1db1-4d9a-a6b7-c906466597f1",
   "metadata": {},
   "outputs": [
    {
     "name": "stdout",
     "output_type": "stream",
     "text": [
      "Unknown exchange: 'NGM' ENPH NASDAQ\n"
     ]
    },
    {
     "data": {
      "text/html": [
       "<div>\n",
       "<style scoped>\n",
       "    .dataframe tbody tr th:only-of-type {\n",
       "        vertical-align: middle;\n",
       "    }\n",
       "\n",
       "    .dataframe tbody tr th {\n",
       "        vertical-align: top;\n",
       "    }\n",
       "\n",
       "    .dataframe thead th {\n",
       "        text-align: right;\n",
       "    }\n",
       "</style>\n",
       "<table border=\"1\" class=\"dataframe\">\n",
       "  <thead>\n",
       "    <tr style=\"text-align: right;\">\n",
       "      <th></th>\n",
       "      <th>Ticker</th>\n",
       "      <th>OldExchange</th>\n",
       "      <th>NewExchange</th>\n",
       "    </tr>\n",
       "  </thead>\n",
       "  <tbody>\n",
       "  </tbody>\n",
       "</table>\n",
       "</div>"
      ],
      "text/plain": [
       "Empty DataFrame\n",
       "Columns: [Ticker, OldExchange, NewExchange]\n",
       "Index: []"
      ]
     },
     "execution_count": 8,
     "metadata": {},
     "output_type": "execute_result"
    }
   ],
   "source": [
    "# Find change of exchange.\n",
    "# Sometimes Yahoo gets this wrong. (E.g., exchange code NGM for NASDAQ:ENPH)\n",
    "\n",
    "lst = []\n",
    "for index, row in df1b.iterrows():\n",
    "    exchange0 = row['Exchange']\n",
    "    ticker = row['Ticker']\n",
    "    try:\n",
    "        exchange1 = ticker_to_exchange(ticker)\n",
    "    except KeyError as e:\n",
    "        print('Unknown exchange:', e, ticker, exchange0)\n",
    "    else:\n",
    "        if exchange0 != exchange1:\n",
    "            lst += [[ticker, exchange0, exchange1]]\n",
    "\n",
    "df1c = pd.DataFrame(lst, columns=['Ticker', 'OldExchange', 'NewExchange'])\n",
    "\n",
    "df1d = df1b[~df1b['Ticker'].isin(df1c['Ticker'])]\n",
    "for x in df1c['Ticker']:\n",
    "    d = {'Exchange': [ticker_to_exchange(x)], 'Ticker': [x]}\n",
    "    df1d = pd.concat([df1d, pd.DataFrame(d)])\n",
    "\n",
    "df1d = df1d.sort_values('Ticker')\n",
    "\n",
    "df1c"
   ]
  },
  {
   "cell_type": "code",
   "execution_count": 9,
   "id": "b967ac34-80c8-42b1-877a-429c322c23fd",
   "metadata": {},
   "outputs": [
    {
     "data": {
      "text/plain": [
       "5419"
      ]
     },
     "execution_count": 9,
     "metadata": {},
     "output_type": "execute_result"
    }
   ],
   "source": [
    "# Write TradingView importable list.\n",
    "\n",
    "open('SP500_new.txt', 'w').write(',\\n'.join((df1d['Exchange'] + ':' + df1b['Ticker']).tolist()))"
   ]
  }
 ],
 "metadata": {
  "kernelspec": {
   "display_name": "Python 3 (ipykernel)",
   "language": "python",
   "name": "python3"
  },
  "language_info": {
   "codemirror_mode": {
    "name": "ipython",
    "version": 3
   },
   "file_extension": ".py",
   "mimetype": "text/x-python",
   "name": "python",
   "nbconvert_exporter": "python",
   "pygments_lexer": "ipython3",
   "version": "3.10.13"
  }
 },
 "nbformat": 4,
 "nbformat_minor": 5
}
