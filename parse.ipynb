{
 "cells": [
  {
   "cell_type": "code",
   "execution_count": 1,
   "id": "06bf98c1-0021-4c48-beef-6faadf94eea6",
   "metadata": {},
   "outputs": [],
   "source": [
    "import pandas as pd"
   ]
  },
  {
   "cell_type": "code",
   "execution_count": 2,
   "id": "ceace323-9adb-4aca-9907-7f07b193e065",
   "metadata": {},
   "outputs": [
    {
     "data": {
      "text/plain": [
       "Exchange\n",
       "NYSE      346\n",
       "NASDAQ    149\n",
       "AMEX        1\n",
       "Name: count, dtype: int64"
      ]
     },
     "execution_count": 2,
     "metadata": {},
     "output_type": "execute_result"
    }
   ],
   "source": [
    "# Read list exported from TradingView\n",
    "\n",
    "fn = 'SP500_old.txt'\n",
    "# fn = 'SP500.txt'\n",
    "df1 = pd.read_csv(fn, sep=':', lineterminator=',', names=['Exchange', 'Ticker'])\n",
    "df1['Exchange'].value_counts()"
   ]
  },
  {
   "cell_type": "code",
   "execution_count": 3,
   "id": "823aca6a-9fba-43d8-8035-ea7e929c7957",
   "metadata": {},
   "outputs": [],
   "source": [
    "# Read list downloaded from State Street.\n",
    "# https://www.ssga.com/us/en/intermediary/etfs/funds/spdr-sp-500-etf-trust-spy\n",
    "\n",
    "fn = 'holdings-daily-us-en-spy.xlsx'\n",
    "\n",
    "# Read data skipping preamble\n",
    "df2 = pd.read_excel(fn, skiprows=4)\n",
    "\n",
    "# Drop Dollar row (lacks a symbol) and postamble\n",
    "r = df2[df2.isnull().all(axis=1) == True].index.tolist()[0]\n",
    "df2 = df2.loc[0:r-1]\n",
    "df2 = df2[df2['Name'] != 'US DOLLAR']"
   ]
  },
  {
   "cell_type": "code",
   "execution_count": 4,
   "id": "7f51e374-fdbf-412c-aaef-fa6c59190019",
   "metadata": {},
   "outputs": [],
   "source": [
    "removed_tickers = df1[~df1['Ticker'].isin(df2['Ticker'])]['Ticker']\n",
    "added_tickers = df2[~df2['Ticker'].isin(df1['Ticker'])]['Ticker']"
   ]
  },
  {
   "cell_type": "code",
   "execution_count": 5,
   "id": "2056a96d-173c-4ae5-a52b-e9ea5275bd3c",
   "metadata": {},
   "outputs": [
    {
     "data": {
      "text/plain": [
       "65      DXC\n",
       "67      OGN\n",
       "72     EMBC\n",
       "88      AAP\n",
       "96      NWL\n",
       "158    TWTR\n",
       "276     VNT\n",
       "416    DISH\n",
       "465     LNC\n",
       "482    FBIN\n",
       "494    LUMN\n",
       "495     VNO\n",
       "Name: Ticker, dtype: object"
      ]
     },
     "execution_count": 5,
     "metadata": {},
     "output_type": "execute_result"
    }
   ],
   "source": [
    "removed_tickers"
   ]
  },
  {
   "cell_type": "code",
   "execution_count": 6,
   "id": "c93417e0-499c-48ab-bd9a-a9b233935624",
   "metadata": {},
   "outputs": [
    {
     "data": {
      "text/plain": [
       "32      LIN\n",
       "93     PANW\n",
       "101      BX\n",
       "103      FI\n",
       "136    ABNB\n",
       "137     ROP\n",
       "147    LULU\n",
       "221    KVUE\n",
       "232     COR\n",
       "263    FICO\n",
       "268    GEHC\n",
       "349      EG\n",
       "360     COO\n",
       "362    VLTO\n",
       "367      BG\n",
       "369    AXON\n",
       "370    HUBB\n",
       "411    PODD\n",
       "434    RVTY\n",
       "Name: Ticker, dtype: object"
      ]
     },
     "execution_count": 6,
     "metadata": {},
     "output_type": "execute_result"
    }
   ],
   "source": [
    "added_tickers"
   ]
  }
 ],
 "metadata": {
  "kernelspec": {
   "display_name": "Python 3 (ipykernel)",
   "language": "python",
   "name": "python3"
  },
  "language_info": {
   "codemirror_mode": {
    "name": "ipython",
    "version": 3
   },
   "file_extension": ".py",
   "mimetype": "text/x-python",
   "name": "python",
   "nbconvert_exporter": "python",
   "pygments_lexer": "ipython3",
   "version": "3.10.13"
  }
 },
 "nbformat": 4,
 "nbformat_minor": 5
}
